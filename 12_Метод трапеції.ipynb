{
  "metadata": {
    "language_info": {
      "codemirror_mode": {
        "name": "python",
        "version": 3
      },
      "file_extension": ".py",
      "mimetype": "text/x-python",
      "name": "python",
      "nbconvert_exporter": "python",
      "pygments_lexer": "ipython3",
      "version": "3.8"
    },
    "kernelspec": {
      "name": "python",
      "display_name": "Python (Pyodide)",
      "language": "python"
    }
  },
  "nbformat_minor": 4,
  "nbformat": 4,
  "cells": [
    {
      "cell_type": "code",
      "source": "from scipy import integrate \nimport math\neps = 0.001\na = 1.4\nb = 2.1\nn = 20\ndef f1(x): \n    return math.sqrt(3 * pow(x, 2) - 1);\n\ndef trap(f1,a,b,n): \n    h=(b-a)/n \n    sum=0.5*(f1(a)+f1(b)) \n    for i in range(1,n): \n        sum+=f1(a+i*h)\n    return sum*h\n\nv,err = integrate.quad(f1,a,b)#Перевірка\n#Перевірка точності за правилом Рунге:\nif abs (trap(f1, a,b, 2*n) -trap(f1, a,b,n))/3. <= eps: \n    print(\"Trapetzia method:\",round (trap(f1, a,b,n), 5)) \nprint(\"Check for the trapetzia method= \",round(v, 5)) \n",
      "metadata": {
        "trusted": true
      },
      "execution_count": 8,
      "outputs": [
        {
          "name": "stdout",
          "text": "Trapetzia method: 2.00107\nCheck for the trapetzia method=  2.00108\n",
          "output_type": "stream"
        }
      ]
    },
    {
      "cell_type": "code",
      "source": "",
      "metadata": {},
      "execution_count": null,
      "outputs": []
    }
  ]
}