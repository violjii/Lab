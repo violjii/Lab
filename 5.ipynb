{
  "metadata": {
    "language_info": {
      "codemirror_mode": {
        "name": "python",
        "version": 3
      },
      "file_extension": ".py",
      "mimetype": "text/x-python",
      "name": "python",
      "nbconvert_exporter": "python",
      "pygments_lexer": "ipython3",
      "version": "3.8"
    },
    "kernelspec": {
      "name": "python",
      "display_name": "Python (Pyodide)",
      "language": "python"
    }
  },
  "nbformat_minor": 4,
  "nbformat": 4,
  "cells": [
    {
      "cell_type": "code",
      "source": "delta = 0.1\n\ndef f1(y):\n    return 0.5 * math.cos(y - 1)\n\ndef f2(x):\n    return 2 + math.cos(x)\n\ndf1_x0 = abs(derivative(f1,x0 + delta, n=1))\ndf2_x0 = abs(derivative(f2,x0 + delta, n=1))\ndf1_y0 = abs(derivative(f1,y0 + delta, n=1))\ndf2_y0 = abs(derivative(f2,y0 + delta, n=1))\n\nif df1_x0 + df2_x0 < 1 and df1_y0 + df2_y0 < 1:\n    print ('1')\n\n    def iter (x,y,e):\n        xn = x\n        yn = y\n        xn1 = f2(x)\n        yn1 = f1(y)\n        n = 1\n\n        while ((abs(xn1-xn) >= e) & (abs(yn1-yn) >= e)):\n            xn = xn1\n            yn = yn1\n            xn1 = f2(yn)\n            yn1 = f1(xn)\n            n += 1\n        print ('simple iteration:')\n        print ('x=', xn, \"\\ny=\", yn, \"\\nThe amount of iteration = \", n)\n    iter(x0, y0, 0.0001)\nelse:\n    print ('2')\ndef f3(x):\n",
      "metadata": {},
      "execution_count": null,
      "outputs": []
    }
  ]
}