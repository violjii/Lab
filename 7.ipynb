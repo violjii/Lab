{
  "metadata": {
    "language_info": {
      "codemirror_mode": {
        "name": "python",
        "version": 3
      },
      "file_extension": ".py",
      "mimetype": "text/x-python",
      "name": "python",
      "nbconvert_exporter": "python",
      "pygments_lexer": "ipython3",
      "version": "3.8"
    },
    "kernelspec": {
      "name": "python",
      "display_name": "Python (Pyodide)",
      "language": "python"
    }
  },
  "nbformat_minor": 4,
  "nbformat": 4,
  "cells": [
    {
      "cell_type": "code",
      "source": "import numpy as np\nimport math\n\nmas_x = [1.5,2.0,2.5,3.0,3.5,4.0]\nmas_y = [10.517, 10.193,9.807,9.387,8.977,8.637]\nh = mas_x[1] - mas_x[0]\nprint (h)\nmas_1 = []\nmas_2 = []\nmas_3 = []\nmas_4 = []\n\nfor i in range(len(mas_y)):\n    mas_1.append(mas_y[i] - mas_y[i-1])\nmas_1.pop(0)\nprint ('mas_1 = ', mas_1)\n\nfor j in range(len(mas_1)):\n    mas_2.append(mas_1[j] - mas_1[j-1])\nmas_2.pop(0)\nprint ('mas_2 = ', mas_2)\n\nfor k in range(len(mas_2)):\n    mas_3.append(mas_2[k] - mas_2[k-1])\nmas_3.pop(0)\nprint ('mas_3 = ', mas_3)\n\nfor l in range(len(mas_3)):\n    mas_4.append(mas_3[l] - mas_3[l-1])\nmas_4.pop(0)\nprint ('mas_4 = ', mas_4)\n\ny1 = 1 / h * (mas_1[1] - (mas_2[1] / 2) + (mas_3[1] / 3) - (mas_4[1]/4))\ny2 = 1 / (h**2) * (mas_2[1] - mas_3[1] + 11/12*mas_4[1])\n\nprint (\"first: \", y1)\n",
      "metadata": {},
      "execution_count": null,
      "outputs": []
    }
  ]
}