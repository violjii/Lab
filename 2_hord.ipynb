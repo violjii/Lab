{
  "metadata": {
    "language_info": {
      "codemirror_mode": {
        "name": "python",
        "version": 3
      },
      "file_extension": ".py",
      "mimetype": "text/x-python",
      "name": "python",
      "nbconvert_exporter": "python",
      "pygments_lexer": "ipython3",
      "version": "3.8"
    },
    "kernelspec": {
      "name": "python",
      "display_name": "Python (Pyodide)",
      "language": "python"
    }
  },
  "nbformat_minor": 4,
  "nbformat": 4,
  "cells": [
    {
      "cell_type": "code",
      "source": "import math\n\ndef F(x):\n    return pow(x, 4) - 2 * pow(x, 2) - 6 * x - 1\ndef F1(x):\n    res= 4 * pow(x, 3) - 4 * x - 6\n    print(res)\n    return res\n\ndef Method(a, b):\n    try:\n        x0 = (a + b) / 2\n        xn = F(x0)\n        xn1 = xn - F(xn) / F1(xn)\n        while abs(xn1 - xn) > math.pow(10, -5):\n            xn = xn1  # вот так надо было\n            xn1 = xn - F(xn) / F1(xn)\n        print(xn1)\n        return xn1\n    except ValueError:\n        print(\"Value not invalidate\")\n\nif __name__ == '__main__':\n    x=float(input())\n    a=float(input())\n    b=float(input())\n    F(x)\n    F1(x)\n    Method(a, b)",
      "metadata": {},
      "execution_count": null,
      "outputs": []
    }
  ]
}