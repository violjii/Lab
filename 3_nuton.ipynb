{
  "metadata": {
    "language_info": {
      "codemirror_mode": {
        "name": "python",
        "version": 3
      },
      "file_extension": ".py",
      "mimetype": "text/x-python",
      "name": "python",
      "nbconvert_exporter": "python",
      "pygments_lexer": "ipython3",
      "version": "3.8"
    },
    "kernelspec": {
      "name": "python",
      "display_name": "Python (Pyodide)",
      "language": "python"
    }
  },
  "nbformat_minor": 4,
  "nbformat": 4,
  "cells": [
    {
      "cell_type": "code",
      "source": "import numpy as np\nimport math\nfrom scipy.misc import derivative\ndef f(x):\n    return pow(x, 4) - 2 * pow(x, 2) - 6 * x - 1\n\na = -2\nb = 0\neps = 0.001 #точність\ndef nuton(a,b,eps):\n    df2 = derivative(f, b, n = 2) \n    if (f(b)*df2>0):\n        xi = b\n    else:\n        xi = a\n    df = derivative(f,xi, n= 1)\n    xi_1 = xi - f(xi)/df\n    while (abs(xi_1 - xi)>eps): #accuracy check\n        xi = xi_1\n        xi_1 = xi - f(xi)/df\n        return print ('Solving the equation by Newton*s method x = ', xi_1)\nnuton (a,b,eps)",
      "metadata": {},
      "execution_count": null,
      "outputs": []
    }
  ]
}